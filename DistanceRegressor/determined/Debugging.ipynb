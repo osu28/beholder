{
 "cells": [
  {
   "cell_type": "code",
   "execution_count": null,
   "id": "7517edd3-ca32-4b46-86f7-13856aa552f1",
   "metadata": {
    "tags": []
   },
   "outputs": [],
   "source": [
    "# !pip install albumentations\n",
    "# !pip install -U jupyterlab==3.0.16\n",
    "# !pip install ipywidgets # --user"
   ]
  },
  {
   "cell_type": "code",
   "execution_count": null,
   "id": "cd1765a0-a0d1-41e8-a2db-18c8f5193212",
   "metadata": {},
   "outputs": [],
   "source": [
    "# imports\n",
    "import sys\n",
    "import torch\n",
    "from determined.pytorch import PyTorchTrial,PyTorchTrialContext\n",
    "from model_def import DistNetTrial\n",
    "import matplotlib.pyplot as plt\n",
    "from matplotlib import patches\n",
    "import numpy as np\n",
    "import warnings"
   ]
  },
  {
   "cell_type": "code",
   "execution_count": null,
   "id": "80a12f94-8758-4e9a-8599-ddcc1e42f52d",
   "metadata": {},
   "outputs": [],
   "source": [
    "# supress annoying warnings\n",
    "warnings.filterwarnings('ignore')"
   ]
  },
  {
   "cell_type": "code",
   "execution_count": null,
   "id": "997e46d7-5157-4cab-9d45-5374c9d2b5b9",
   "metadata": {},
   "outputs": [],
   "source": [
    "# create my config dictionary\n",
    "config = {'hyperparameters': {'learning_rate': 1e-6,\n",
    "                              'weight_decay': 1e-4,\n",
    "                              'global_batch_size': 4,\n",
    "                              'lambda_d': 10,\n",
    "                              'lambda_k':0},\n",
    "          'data': {'train_data_dir': '/irad_mounts/lambda-quad-5-data/beholder/',\n",
    "                   'val_data_dir': '/irad_mounts/lambda-quad-5-data/beholder/',\n",
    "                   'make_local': True}}\n",
    "\n",
    "# create my trial\n",
    "context = PyTorchTrialContext.from_config(config)\n",
    "testTrial = DistNetTrial(context)"
   ]
  },
  {
   "cell_type": "code",
   "execution_count": null,
   "id": "440073da-2b7d-42f8-a6c3-acb9705c3af7",
   "metadata": {
    "tags": []
   },
   "outputs": [],
   "source": [
    "# build my loaders and check their respective lengths\n",
    "train_loader = testTrial.build_training_data_loader()\n",
    "val_loader = testTrial.build_validation_data_loader()\n",
    "\n",
    "print(len(train_loader))\n",
    "print(len(val_loader))"
   ]
  },
  {
   "cell_type": "code",
   "execution_count": null,
   "id": "56b8bff6-8a3e-41f3-9669-23f1d95397c7",
   "metadata": {
    "tags": []
   },
   "outputs": [],
   "source": [
    "# display some test data to be sure its working correctly\n",
    "idx=4000\n",
    "(image,boxes,distances,classes) = train_loader.dataset.__getitem__(idx)\n",
    "image,boxes,classes = image.numpy(),boxes.numpy(),classes.numpy()\n",
    "fig,ax = plt.subplots(figsize=(20,16))\n",
    "ax.imshow(np.transpose(image, (1,2,0)))\n",
    "for i in range(len(boxes)):\n",
    "    rect = patches.Rectangle((boxes[i][0],boxes[i][3]),boxes[i][2]-boxes[i][0],boxes[i][1]-boxes[i][3], linewidth=2, edgecolor='r', facecolor='none', label='object')\n",
    "    ax.add_patch(rect)\n",
    "plt.show()"
   ]
  },
  {
   "cell_type": "code",
   "execution_count": null,
   "id": "65db95ed-0528-4ec5-8059-57ec677910ac",
   "metadata": {},
   "outputs": [],
   "source": [
    "# Try an epoch of training to make sure everything works\n",
    "for epoch in range(1):\n",
    "    for batch_idx, batch in enumerate(train_loader):\n",
    "        metrics = testTrial.train_batch(batch, epoch, batch_idx)\n",
    "        if (batch_idx % 100) == 0:\n",
    "            print(metrics)\n",
    "            break"
   ]
  },
  {
   "cell_type": "code",
   "execution_count": null,
   "id": "6e04958d-5dc1-4abd-b8d7-a0f20d079bd3",
   "metadata": {},
   "outputs": [],
   "source": [
    "# Try one round of eval to make sure everything works\n",
    "metrics = testTrial.evaluate_full_dataset(val_loader)\n",
    "print(metrics)"
   ]
  },
  {
   "cell_type": "code",
   "execution_count": null,
   "id": "cd26800b-104e-47b2-80ef-d0aaebacafec",
   "metadata": {},
   "outputs": [],
   "source": [
    "# looks like we're good to go!"
   ]
  },
  {
   "cell_type": "code",
   "execution_count": null,
   "id": "73d3ac28-5538-4356-be4b-23d29a9d3e9d",
   "metadata": {},
   "outputs": [],
   "source": []
  }
 ],
 "metadata": {
  "kernelspec": {
   "display_name": "Python 3 (ipykernel)",
   "language": "python",
   "name": "python3"
  },
  "language_info": {
   "codemirror_mode": {
    "name": "ipython",
    "version": 3
   },
   "file_extension": ".py",
   "mimetype": "text/x-python",
   "name": "python",
   "nbconvert_exporter": "python",
   "pygments_lexer": "ipython3",
   "version": "3.7.10"
  }
 },
 "nbformat": 4,
 "nbformat_minor": 5
}
