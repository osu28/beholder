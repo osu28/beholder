{
 "cells": [
  {
   "cell_type": "code",
   "execution_count": 1,
   "id": "544a5615-1af7-4b4f-ae03-3517a51ccbb6",
   "metadata": {},
   "outputs": [],
   "source": [
    "import sys\n",
    "sys.path.append('../../')\n",
    "\n",
    "# imports\n",
    "from sklearn.decomposition import PCA\n",
    "from sklearn.ensemble import RandomForestRegressor\n",
    "from sklearn.preprocessing import normalize\n",
    "import matplotlib.pyplot as plt\n",
    "import math\n",
    "import numpy as np\n",
    "import pandas as pd\n",
    "import metrics\n",
    "from ast import literal_eval\n",
    "import torch\n",
    "import torchvision\n",
    "import torch.nn as nn\n",
    "import itertools\n",
    "import time"
   ]
  },
  {
   "cell_type": "code",
   "execution_count": 7,
   "id": "6bf77336-3fa2-45de-8789-ff076a09804a",
   "metadata": {},
   "outputs": [
    {
     "name": "stdout",
     "output_type": "stream",
     "text": [
      "cuda\n",
      "DistanceRegressor(\n",
      "  (input): Linear(in_features=33, out_features=128, bias=True)\n",
      "  (fc1): Linear(in_features=128, out_features=256, bias=True)\n",
      "  (fc2): Linear(in_features=256, out_features=512, bias=True)\n",
      "  (fc3): Linear(in_features=512, out_features=1024, bias=True)\n",
      "  (fc4): Linear(in_features=1024, out_features=2048, bias=True)\n",
      "  (output): Linear(in_features=2048, out_features=1, bias=True)\n",
      "  (activation): Tanh()\n",
      ")\n"
     ]
    }
   ],
   "source": [
    "# define our gpu device\n",
    "device = torch.device('cuda' if torch.cuda.is_available else 'cpu')\n",
    "print(device)\n",
    "\n",
    "# instantiate model\n",
    "model = DistanceRegressor(33)\n",
    "model.to(device)\n",
    "\n",
    "model.load_state_dict(torch.load('./fusion_mlp.pth'))\n",
    "print(model)"
   ]
  },
  {
   "cell_type": "code",
   "execution_count": 8,
   "id": "b29f62cb-f031-4a91-b786-c84dbf0bfdd2",
   "metadata": {},
   "outputs": [
    {
     "name": "stdout",
     "output_type": "stream",
     "text": [
      "        boxes_xmin  boxes_ymin   boxes_xmax  boxes_ymax  classes  \\\n",
      "0       835.200012  224.000000  1023.359985  391.040009        0   \n",
      "1       517.119995  279.040009   565.119995  323.200012        0   \n",
      "2       725.119995  271.359985   855.039978  351.359985        0   \n",
      "3       952.320007  213.759995  1023.359985  420.480011        0   \n",
      "4       624.000000  281.600006   672.640015  328.320007        0   \n",
      "...            ...         ...          ...         ...      ...   \n",
      "103733    0.000000  319.359985    18.559999  469.760010        3   \n",
      "103734  309.119995  304.000000   350.720001  433.920013        3   \n",
      "103735   55.680000  321.920013    94.080002  405.760010        3   \n",
      "103736  248.960007  303.359985   301.440002  439.679993        3   \n",
      "103737    0.000000  307.839996    22.400000  389.119995        3   \n",
      "\n",
      "                                           feature_vector  distances  \n",
      "0       [1.0876852274, 1.0368664265, 3.3972132206, 1.7...  -0.868037  \n",
      "1       [0.7847536802, 0.9095898867000001, 1.382693886...  -0.629239  \n",
      "2       [1.1170259714, 1.0825517178, 2.1516473293, 1.9...  -0.803352  \n",
      "3       [0.5595021248000001, 0.9386500120000001, 3.147...  -0.880302  \n",
      "4       [1.007496953, 1.5271167755000001, 1.7699843645...  -0.638484  \n",
      "...                                                   ...        ...  \n",
      "103733  [0.0573124588, 0.42692375180000003, 1.10180032...  -0.931974  \n",
      "103734  [0.1475021094, 0.2523728609, 1.0638358593, 1.9...  -0.933216  \n",
      "103735  [0.18975988030000002, 0.292106688, 0.902331054...  -0.874147  \n",
      "103736  [0.6777149439, 0.3104655743, 1.1151895523, 2.0...  -0.931299  \n",
      "103737  [0.1547499001, 0.4034855962, 1.4786833525, 0.9...  -0.851959  \n",
      "\n",
      "[103738 rows x 7 columns]\n"
     ]
    }
   ],
   "source": [
    "import pandas as pd\n",
    "\n",
    "json = pd.read_json('test.json')\n",
    "print(json)"
   ]
  },
  {
   "cell_type": "code",
   "execution_count": 9,
   "id": "db031765-b01f-49c8-b7ef-bee21ff59227",
   "metadata": {},
   "outputs": [
    {
     "name": "stdout",
     "output_type": "stream",
     "text": [
      "1024\n"
     ]
    }
   ],
   "source": [
    "print(len(json['feature_vector'][0]))"
   ]
  },
  {
   "cell_type": "code",
   "execution_count": null,
   "id": "8031662f-7cf2-4317-af62-ab9bb3e933d0",
   "metadata": {},
   "outputs": [],
   "source": []
  }
 ],
 "metadata": {
  "kernelspec": {
   "display_name": "Python 3 (ipykernel)",
   "language": "python",
   "name": "python3"
  },
  "language_info": {
   "codemirror_mode": {
    "name": "ipython",
    "version": 3
   },
   "file_extension": ".py",
   "mimetype": "text/x-python",
   "name": "python",
   "nbconvert_exporter": "python",
   "pygments_lexer": "ipython3",
   "version": "3.7.10"
  }
 },
 "nbformat": 4,
 "nbformat_minor": 5
}
