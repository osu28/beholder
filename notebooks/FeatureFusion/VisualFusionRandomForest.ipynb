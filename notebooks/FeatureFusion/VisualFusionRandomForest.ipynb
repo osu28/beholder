{
 "cells": [
  {
   "cell_type": "code",
   "execution_count": null,
   "id": "d30f6536-c7a4-48bd-ac1c-1a34014bab57",
   "metadata": {
    "tags": []
   },
   "outputs": [],
   "source": [
    "!pip install -U jupyterlab==3.0.16\n",
    "!pip install ipywidgets # --user\n",
    "!pip install sklearn"
   ]
  },
  {
   "cell_type": "code",
   "execution_count": null,
   "id": "8f0ea69e-c13d-4abc-9e14-eedfc0c4727c",
   "metadata": {},
   "outputs": [],
   "source": [
    "import sys\n",
    "sys.path.append('../../')"
   ]
  },
  {
   "cell_type": "code",
   "execution_count": null,
   "id": "469411e3-2878-4fb0-ab90-07e245ede2d4",
   "metadata": {},
   "outputs": [],
   "source": [
    "# imports\n",
    "from sklearn.decomposition import PCA\n",
    "from sklearn.ensemble import RandomForestRegressor\n",
    "import matplotlib.pyplot as plt\n",
    "import math\n",
    "import numpy as np\n",
    "import pandas as pd\n",
    "import metrics\n",
    "from ast import literal_eval"
   ]
  },
  {
   "cell_type": "code",
   "execution_count": null,
   "id": "0f893bc2-47a1-4e71-a87b-30cb67f792d4",
   "metadata": {},
   "outputs": [],
   "source": [
    "# define a function to get arrays from dataframe for sklearn training\n",
    "def get_data(df, cols):\n",
    "    return df[cols].to_numpy(),df['distances'].to_numpy()"
   ]
  },
  {
   "cell_type": "markdown",
   "id": "542046a6-fe89-4954-ba6b-fd510a696c11",
   "metadata": {},
   "source": [
    "## Try a Random Forest Regressor Without the Visual Features"
   ]
  },
  {
   "cell_type": "code",
   "execution_count": null,
   "id": "4d6ed3b7-fe33-4140-9651-302b604ca9bd",
   "metadata": {},
   "outputs": [],
   "source": [
    "# try an sklearn model right out of the box w/out the visual data\n",
    "train_data = pd.read_csv('train.csv')\n",
    "test_data = pd.read_csv('test.csv')\n",
    "\n",
    "feature_cols = [\n",
    "    'boxes_xmin',\n",
    "    'boxes_ymin',\n",
    "    'boxes_xmax',\n",
    "    'boxes_ymax',\n",
    "    'classes'\n",
    "]\n",
    "\n",
    "# collapse dataframe info to array\n",
    "train_x,train_y = get_data(train_data, feature_cols)\n",
    "\n",
    "# do the same for test\n",
    "test_x,test_y = get_data(test_data, feature_cols)"
   ]
  },
  {
   "cell_type": "code",
   "execution_count": null,
   "id": "0cb0e061-a355-4750-8ea6-d48e7af70ea2",
   "metadata": {},
   "outputs": [],
   "source": [
    "# try a random forest regressor\n",
    "regr = RandomForestRegressor(n_estimators=100)\n",
    "regr.fit(train_x, train_y)\n",
    "\n",
    "# get predictions for test data\n",
    "train_preds = regr.predict(train_x)\n",
    "test_preds = regr.predict(test_x)"
   ]
  },
  {
   "cell_type": "code",
   "execution_count": null,
   "id": "44af0b78-014a-49df-b1eb-8d7780148b29",
   "metadata": {},
   "outputs": [],
   "source": [
    "# calculate train metrics\n",
    "abs_rel_dist = np.mean(metrics.abs_relative_distance(train_preds, train_y))\n",
    "sq_rel_dist = metrics.sq_relative_distance(train_preds, train_y)\n",
    "rmse = metrics.rmse(train_preds, train_y)\n",
    "log_rmse = metrics.log_rmse(train_preds, train_y)\n",
    "\n",
    "# print metrics\n",
    "print('Train Set Metrics')\n",
    "print('----------------')\n",
    "print('Abs Rel:{:.3f}'.format(abs_rel_dist))\n",
    "print('Sq Rel: {:.3f}'.format(sq_rel_dist))\n",
    "print('RMSE: {:.3f}'.format(rmse))\n",
    "print('RMSE log: {:.3f}'.format(log_rmse))\n",
    "\n",
    "# calculate test metrics\n",
    "abs_rel_dist = np.mean(metrics.abs_relative_distance(test_preds, test_y))\n",
    "sq_rel_dist = metrics.sq_relative_distance(test_preds, test_y)\n",
    "rmse = metrics.rmse(test_preds, test_y)\n",
    "log_rmse = metrics.log_rmse(test_preds, test_y)\n",
    "\n",
    "# print metrics\n",
    "print()\n",
    "print('Test Set Metrics')\n",
    "print('----------------')\n",
    "print('Abs Rel:{:.3f}'.format(abs_rel_dist))\n",
    "print('Sq Rel: {:.3f}'.format(sq_rel_dist))\n",
    "print('RMSE: {:.3f}'.format(rmse))\n",
    "print('RMSE log: {:.3f}'.format(log_rmse))"
   ]
  },
  {
   "cell_type": "code",
   "execution_count": null,
   "id": "b59519b5-0c21-46ff-b9b3-6f526b3358c9",
   "metadata": {},
   "outputs": [],
   "source": [
    "# plot an error histogram\n",
    "abs_rel_errors = metrics.abs_relative_distance(test_preds, test_y)\n",
    "abs_rel_errors *= test_y\n",
    "fig,ax = plt.subplots(1,1, figsize=(10,5))\n",
    "ax.hist(abs_rel_errors, bins=100, color='r')\n",
    "ax.set_title('Error Histogram')\n",
    "ax.set_ylabel('Frequency')\n",
    "ax.set_xlabel('Error (m)')\n",
    "plt.show()"
   ]
  },
  {
   "cell_type": "markdown",
   "id": "3eee28d2-81c5-47f6-be05-693a0eee97ca",
   "metadata": {},
   "source": [
    "## Let's Try it With the Visual Info\n",
    "### PCA Reduce the Features First"
   ]
  },
  {
   "cell_type": "code",
   "execution_count": null,
   "id": "c7e2121d-0eaf-454f-a3b6-b45894a3268f",
   "metadata": {},
   "outputs": [],
   "source": [
    "# transform train vectors to array\n",
    "train_fvs = train_data['feature_vector'].apply(literal_eval)\n",
    "train_fvs = np.stack(train_fvs, axis=0)\n",
    "\n",
    "# transform test vectors to array\n",
    "test_fvs = test_data['feature_vector'].apply(literal_eval)\n",
    "test_fvs = np.stack(test_fvs, axis=0)"
   ]
  },
  {
   "cell_type": "code",
   "execution_count": null,
   "id": "631d67f0-7a60-49f5-b230-dcf247db75fa",
   "metadata": {},
   "outputs": [],
   "source": [
    "# perform PCA reduction\n",
    "pca = PCA(n_components=12)\n",
    "train_fvs_reduced = pca.fit_transform(train_fvs)\n",
    "test_fvs_reduced = pca.transform(test_fvs)"
   ]
  },
  {
   "cell_type": "code",
   "execution_count": null,
   "id": "7c6df012-0ecd-4e45-889d-cb4769241f85",
   "metadata": {},
   "outputs": [],
   "source": [
    "# add vector elements back to each dataframe\n",
    "new_cols = ['feature_vector_{}'.format(i) for i in range(train_fvs_reduced.shape[1])]\n",
    "train_data[new_cols] = train_fvs_reduced\n",
    "test_data[new_cols] = test_fvs_reduced"
   ]
  },
  {
   "cell_type": "code",
   "execution_count": null,
   "id": "6bbd2b52-ad9d-47e8-8674-5200b6783205",
   "metadata": {},
   "outputs": [],
   "source": [
    "# reconstruct the data\n",
    "new_feature_cols = feature_cols+new_cols\n",
    "\n",
    "# collapse dataframe info to array\n",
    "train_x,train_y = get_data(train_data, new_feature_cols)\n",
    "\n",
    "# do the same for test\n",
    "test_x,test_y = get_data(test_data, new_feature_cols)"
   ]
  },
  {
   "cell_type": "code",
   "execution_count": null,
   "id": "608c2e73-150b-48dd-bedf-00b828b0a05e",
   "metadata": {},
   "outputs": [],
   "source": [
    "# try a random forest regressor\n",
    "regr = RandomForestRegressor(n_estimators=100)\n",
    "regr.fit(train_x, train_y)\n",
    "\n",
    "# get predictions for test data\n",
    "train_preds = regr.predict(train_x)\n",
    "test_preds = regr.predict(test_x)"
   ]
  },
  {
   "cell_type": "code",
   "execution_count": null,
   "id": "3a75d878-ddc5-490a-82d2-f7012078914c",
   "metadata": {},
   "outputs": [],
   "source": [
    "# calculate train metrics\n",
    "abs_rel_dist = np.mean(metrics.abs_relative_distance(train_preds, train_y))\n",
    "sq_rel_dist = metrics.sq_relative_distance(train_preds, train_y)\n",
    "rmse = metrics.rmse(train_preds, train_y)\n",
    "log_rmse = metrics.log_rmse(train_preds, train_y)\n",
    "\n",
    "# print metrics\n",
    "print('Train Set Metrics')\n",
    "print('----------------')\n",
    "print('Abs Rel:{:.3f}'.format(abs_rel_dist))\n",
    "print('Sq Rel: {:.3f}'.format(sq_rel_dist))\n",
    "print('RMSE: {:.3f}'.format(rmse))\n",
    "print('RMSE log: {:.3f}'.format(log_rmse))\n",
    "\n",
    "# calculate test metrics\n",
    "abs_rel_dist = np.mean(metrics.abs_relative_distance(test_preds, test_y))\n",
    "sq_rel_dist = metrics.sq_relative_distance(test_preds, test_y)\n",
    "rmse = metrics.rmse(test_preds, test_y)\n",
    "log_rmse = metrics.log_rmse(test_preds, test_y)\n",
    "\n",
    "# print metrics\n",
    "print()\n",
    "print('Test Set Metrics')\n",
    "print('----------------')\n",
    "print('Abs Rel:{:.3f}'.format(abs_rel_dist))\n",
    "print('Sq Rel: {:.3f}'.format(sq_rel_dist))\n",
    "print('RMSE: {:.3f}'.format(rmse))\n",
    "print('RMSE log: {:.3f}'.format(log_rmse))"
   ]
  },
  {
   "cell_type": "code",
   "execution_count": null,
   "id": "8e566fe5-0fba-4181-b542-5c6df9519712",
   "metadata": {},
   "outputs": [],
   "source": [
    "# plot an error histogram\n",
    "abs_rel_errors = metrics.abs_relative_distance(test_preds, test_y)\n",
    "abs_rel_errors *= test_y\n",
    "fig,ax = plt.subplots(1,1, figsize=(10,5))\n",
    "ax.hist(abs_rel_errors, bins=100, color='r')\n",
    "ax.set_title('Error Histogram')\n",
    "ax.set_ylabel('Frequency')\n",
    "ax.set_xlabel('Error (m)')\n",
    "ax.set_xlim(0,45)\n",
    "ax.set_ylim(0,165)\n",
    "plt.show()"
   ]
  },
  {
   "cell_type": "code",
   "execution_count": null,
   "id": "3afec97e-afcf-401c-aae4-4955e9c4ba39",
   "metadata": {},
   "outputs": [],
   "source": []
  }
 ],
 "metadata": {
  "kernelspec": {
   "display_name": "Python 3 (ipykernel)",
   "language": "python",
   "name": "python3"
  },
  "language_info": {
   "codemirror_mode": {
    "name": "ipython",
    "version": 3
   },
   "file_extension": ".py",
   "mimetype": "text/x-python",
   "name": "python",
   "nbconvert_exporter": "python",
   "pygments_lexer": "ipython3",
   "version": "3.8.13"
  }
 },
 "nbformat": 4,
 "nbformat_minor": 5
}
