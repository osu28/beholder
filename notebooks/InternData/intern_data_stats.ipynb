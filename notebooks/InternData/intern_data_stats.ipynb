{
 "cells": [
  {
   "cell_type": "markdown",
   "id": "93da1a30-a9b9-4871-9b86-6565117aac93",
   "metadata": {},
   "source": [
    "Statistics of intern data"
   ]
  },
  {
   "cell_type": "code",
   "execution_count": 11,
   "id": "bd7ba9b2-3e0f-4e16-a8d0-b3eb9bf966e9",
   "metadata": {},
   "outputs": [],
   "source": [
    "import pandas as pd\n",
    "import os\n",
    "root = \"/irad_mounts/lambda-quad-5-data/beholder/intern_data/finished/csv_files/\"\n",
    "files = [file for file in os.listdir(root)]\n",
    "dfs = []\n",
    "for file in files:\n",
    "    metadata = pd.read_csv(root + file)\n",
    "    dfs.append(metadata)\n",
    "    \n",
    "result = pd.concat(dfs, ignore_index=True, sort=False)"
   ]
  },
  {
   "cell_type": "code",
   "execution_count": 29,
   "id": "bd036e91-e210-4261-ab81-f8abf0e516c9",
   "metadata": {},
   "outputs": [
    {
     "name": "stdout",
     "output_type": "stream",
     "text": [
      "number entries:  782\n",
      "number in each class:  class\n",
      "car       764\n",
      "person     18\n",
      "Name: name, dtype: int64\n",
      "number of unique images : 296\n"
     ]
    }
   ],
   "source": [
    "result = result.drop([i for i, d in enumerate(result[\"distance\"])\n",
    "                     if int(d) == -1])\n",
    "result.reset_index(drop=True)\n",
    "print('number entries: ', len(result))\n",
    "print('number in each class: ', result.groupby(['class']).count()['name'])\n",
    "print('number of unique images :', len(result.groupby(['name']).count()))"
   ]
  },
  {
   "cell_type": "code",
   "execution_count": 30,
   "id": "d8b74eac-cd9a-4caa-916a-2b8c47b5ad89",
   "metadata": {},
   "outputs": [
    {
     "data": {
      "image/png": "[encoded data removed]",
      "text/plain": [
       "<Figure size 432x288 with 1 Axes>"
      ]
     },
     "metadata": {
      "needs_background": "light"
     },
     "output_type": "display_data"
    }
   ],
   "source": [
    "import matplotlib.pyplot as plt\n",
    "\n",
    "plt.hist(result['distance'],bins=25)\n",
    "plt.show()"
   ]
  }
 ],
 "metadata": {
  "kernelspec": {
   "display_name": "Python 3 (ipykernel)",
   "language": "python",
   "name": "python3"
  },
  "language_info": {
   "codemirror_mode": {
    "name": "ipython",
    "version": 3
   },
   "file_extension": ".py",
   "mimetype": "text/x-python",
   "name": "python",
   "nbconvert_exporter": "python",
   "pygments_lexer": "ipython3",
   "version": "3.8.13"
  }
 },
 "nbformat": 4,
 "nbformat_minor": 5
}
