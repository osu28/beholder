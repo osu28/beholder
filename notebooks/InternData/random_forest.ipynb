{
 "cells": [
  {
   "cell_type": "code",
   "execution_count": 1,
   "id": "280210cf-0462-4d36-adb7-e56fd223aed4",
   "metadata": {},
   "outputs": [],
   "source": [
    "# !pip install sklearn"
   ]
  },
  {
   "cell_type": "code",
   "execution_count": 2,
   "id": "2d0f4005-591f-4a6e-9284-494bdfa4daec",
   "metadata": {},
   "outputs": [],
   "source": [
    "import sys\n",
    "sys.path.append('/irad_users/smithk/beholder-interns')"
   ]
  },
  {
   "cell_type": "code",
   "execution_count": 3,
   "id": "0f12b3d8-9aad-4749-b967-d2d41371c51c",
   "metadata": {},
   "outputs": [],
   "source": [
    "# imports\n",
    "from sklearn.decomposition import PCA\n",
    "from sklearn.ensemble import RandomForestRegressor\n",
    "from sklearn.preprocessing import RobustScaler\n",
    "from sklearn.model_selection import train_test_split\n",
    "import matplotlib.pyplot as plt\n",
    "import math\n",
    "import random\n",
    "import numpy as np\n",
    "import pandas as pd\n",
    "import metrics"
   ]
  },
  {
   "cell_type": "code",
   "execution_count": 4,
   "id": "62d72165-75d5-4847-a18b-e3d7c2dd8dbe",
   "metadata": {},
   "outputs": [],
   "source": [
    "# define a function to get arrays from dataframe for sklearn training\n",
    "def get_data(df, cols):\n",
    "    return df[cols].to_numpy(),df['distance'].to_numpy()"
   ]
  },
  {
   "cell_type": "code",
   "execution_count": 21,
   "id": "aecd6473-ffb3-4fda-810c-ebfcac5a4dcd",
   "metadata": {},
   "outputs": [],
   "source": [
    "# try an sklearn model right out of the box w/out the visual data\n",
    "train_data = pd.read_csv('/irad_mounts/lambda-quad-5-data/beholder/intern_data/annotations.csv')\n",
    "# remove all boxes where distance was not recorded \n",
    "train_data.drop(train_data.index[train_data['distance'] == -1], inplace=True)\n",
    "\n",
    "# remove all boxes to force the training and test sets to have identical ranges \n",
    "#train_data.drop(train_data.index[train_data['distance'] > 100], inplace=True)\n",
    "\n",
    "#shuffle dataset\n",
    "train_data = train_data.sample(frac=1).reset_index(drop=True)\n",
    "# encode classes \n",
    "classes = [0 if c == 'car' else 1 for c in train_data['class'] ]\n",
    "train_data.drop('class', axis=1)\n",
    "train_data['class'] = classes\n",
    "# scaling: works horribly \n",
    "# scale = RobustScaler()\n",
    "# train_data['distance'] = scale.fit_transform(train_data['distance'].to_numpy().reshape(-1, 1))\n",
    "# train_data.drop(train_data.index[train_data['distance'] == 0.0], inplace=True)\n",
    "# dist_min = train_data['distance'].min()\n",
    "# dist_max = train_data['distance'].max()\n",
    "# normalizing: works horribly \n",
    "#train_data['distance'] = train_data['distance'].apply(lambda x: 2*(x-dist_min)/(dist_max-dist_min) -1)\n",
    "feature_cols = [\n",
    "    'x-min',\n",
    "    'y-min',\n",
    "    'x-max',\n",
    "    'y-max',\n",
    "    'class'\n",
    "]\n",
    "\n",
    "# collapse dataframe info to array\n",
    "X, y = get_data(train_data, feature_cols)\n",
    "train_x, test_x, train_y, test_y = train_test_split(X, y, test_size=0.33, random_state=42)\n"
   ]
  },
  {
   "cell_type": "code",
   "execution_count": 22,
   "id": "32c0ecba-7712-4e09-abaf-21c5654f5409",
   "metadata": {},
   "outputs": [
    {
     "data": {
      "text/plain": [
       "Text(0.5, 1.0, 'Train Set Distances')"
      ]
     },
     "execution_count": 22,
     "metadata": {},
     "output_type": "execute_result"
    },
    {
     "data": {
      "image/png": "[encoded data removed]",
      "text/plain": [
       "<Figure size 432x288 with 1 Axes>"
      ]
     },
     "metadata": {
      "needs_background": "light"
     },
     "output_type": "display_data"
    }
   ],
   "source": [
    "plt.hist(train_y)\n",
    "plt.title('Train Set Distances')"
   ]
  },
  {
   "cell_type": "code",
   "execution_count": 23,
   "id": "ea9a2921-15ec-4621-bef9-b94e8546aff5",
   "metadata": {},
   "outputs": [
    {
     "data": {
      "text/plain": [
       "Text(0.5, 1.0, 'Test Set Distances')"
      ]
     },
     "execution_count": 23,
     "metadata": {},
     "output_type": "execute_result"
    },
    {
     "data": {
      "image/png": "[encoded data removed]",
      "text/plain": [
       "<Figure size 432x288 with 1 Axes>"
      ]
     },
     "metadata": {
      "needs_background": "light"
     },
     "output_type": "display_data"
    }
   ],
   "source": [
    "plt.hist(test_y)\n",
    "plt.title('Test Set Distances')"
   ]
  },
  {
   "cell_type": "code",
   "execution_count": 24,
   "id": "f362a875-cb5c-4a17-a77f-289b1fcfec47",
   "metadata": {},
   "outputs": [],
   "source": [
    "# try a random forest regressor\n",
    "regr = RandomForestRegressor(n_estimators=100)\n",
    "regr.fit(train_x, train_y)\n",
    "\n",
    "# get predictions for test data\n",
    "train_preds = regr.predict(train_x)\n",
    "test_preds = regr.predict(test_x)"
   ]
  },
  {
   "cell_type": "code",
   "execution_count": 9,
   "id": "51b918d5-0a96-4c08-8211-a35ad00a0ec5",
   "metadata": {},
   "outputs": [],
   "source": [
    "# un normalize data\n",
    "# train_preds = (train_preds+1)*(dist_max-dist_min)/2.0 + dist_min\n",
    "# train_y = (train_y+1)*(dist_max-dist_min)/2.0 + dist_min\n",
    "# test_preds = (test_preds+1)*(dist_max-dist_min)/2.0 + dist_min\n",
    "# train_x = (train_x+1)*(dist_max-dist_min)/2.0 + dist_min\n",
    "        \n",
    "# un-scale data\n",
    "# train_preds = scale.inverse_transform(train_preds.reshape(-1, 1))\n",
    "# train_y = scale.inverse_transform(train_y.reshape(-1, 1))\n",
    "# test_preds = scale.inverse_transform(test_preds.reshape(-1, 1))\n",
    "# train_x = scale.inverse_transform(test_y.reshape(-1, 1))"
   ]
  },
  {
   "cell_type": "code",
   "execution_count": 25,
   "id": "ef999ff1-7139-4fc0-8505-fa07f9454603",
   "metadata": {},
   "outputs": [
    {
     "name": "stdout",
     "output_type": "stream",
     "text": [
      "Train Set Metrics\n",
      "----------------\n",
      "Abs Rel:0.096\n",
      "Sq Rel: 0.590\n",
      "RMSE: 4.916\n",
      "RMSE log: 0.141\n",
      "\n",
      "Test Set Metrics\n",
      "----------------\n",
      "Abs Rel:0.228\n",
      "Sq Rel: 2.856\n",
      "RMSE: 12.261\n",
      "RMSE log: 0.281\n"
     ]
    }
   ],
   "source": [
    "# calculate train metrics\n",
    "abs_rel_dist = np.mean(metrics.abs_relative_distance(train_preds, train_y))\n",
    "sq_rel_dist = metrics.sq_relative_distance(train_preds, train_y)\n",
    "rmse = metrics.rmse(train_preds, train_y)\n",
    "log_rmse = metrics.log_rmse(train_preds, train_y)\n",
    "\n",
    "# print metrics\n",
    "print('Train Set Metrics')\n",
    "print('----------------')\n",
    "print('Abs Rel:{:.3f}'.format(abs_rel_dist))\n",
    "print('Sq Rel: {:.3f}'.format(sq_rel_dist))\n",
    "print('RMSE: {:.3f}'.format(rmse))\n",
    "print('RMSE log: {:.3f}'.format(log_rmse))\n",
    "\n",
    "# calculate test metrics\n",
    "abs_rel_dist = np.mean(metrics.abs_relative_distance(test_preds, test_y))\n",
    "sq_rel_dist = metrics.sq_relative_distance(test_preds, test_y)\n",
    "rmse = metrics.rmse(test_preds, test_y)\n",
    "log_rmse = metrics.log_rmse(test_preds, test_y)\n",
    "\n",
    "# print metrics\n",
    "print()\n",
    "print('Test Set Metrics')\n",
    "print('----------------')\n",
    "print('Abs Rel:{:.3f}'.format(abs_rel_dist))\n",
    "print('Sq Rel: {:.3f}'.format(sq_rel_dist))\n",
    "print('RMSE: {:.3f}'.format(rmse))\n",
    "print('RMSE log: {:.3f}'.format(log_rmse))"
   ]
  },
  {
   "cell_type": "code",
   "execution_count": 11,
   "id": "6acc215a-8b75-4372-8d5a-fc5fb42e66df",
   "metadata": {},
   "outputs": [
    {
     "data": {
      "image/png": "[encoded data removed]",
      "text/plain": [
       "<Figure size 720x360 with 1 Axes>"
      ]
     },
     "metadata": {
      "needs_background": "light"
     },
     "output_type": "display_data"
    }
   ],
   "source": [
    "# plot an error histogram\n",
    "abs_rel_errors = metrics.abs_relative_distance(test_preds, test_y)\n",
    "abs_rel_errors *= test_y\n",
    "fig,ax = plt.subplots(1,1, figsize=(10,5))\n",
    "ax.hist(abs_rel_errors, bins=100, color='r')\n",
    "ax.set_title('Error Histogram')\n",
    "ax.set_ylabel('Frequency')\n",
    "ax.set_xlabel('Error (m)')\n",
    "plt.show()"
   ]
  }
 ],
 "metadata": {
  "kernelspec": {
   "display_name": "Python 3 (ipykernel)",
   "language": "python",
   "name": "python3"
  },
  "language_info": {
   "codemirror_mode": {
    "name": "ipython",
    "version": 3
   },
   "file_extension": ".py",
   "mimetype": "text/x-python",
   "name": "python",
   "nbconvert_exporter": "python",
   "pygments_lexer": "ipython3",
   "version": "3.8.13"
  }
 },
 "nbformat": 4,
 "nbformat_minor": 5
}
